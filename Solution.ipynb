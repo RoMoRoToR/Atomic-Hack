{
 "cells": [
  {
   "cell_type": "markdown",
   "metadata": {
    "id": "BkscCmjCT4Jw"
   },
   "source": [
    "# Загрузка данных и библиотек\n",
    "\n"
   ]
  },
  {
   "cell_type": "code",
   "execution_count": null,
   "metadata": {
    "id": "JNeQcGeaT-H8",
    "tags": []
   },
   "outputs": [],
   "source": [
    "!pip install ultralytics"
   ]
  },
  {
   "cell_type": "code",
   "execution_count": null,
   "metadata": {
    "colab": {
     "base_uri": "https://localhost:8080/"
    },
    "id": "M2cE-rkcbVzT",
    "outputId": "19c85462-aca9-4c32-aab1-04ed99184fc5"
   },
   "outputs": [],
   "source": [
    "!pip install optuna"
   ]
  },
  {
   "cell_type": "markdown",
   "metadata": {
    "id": "0Qv6kCgkULB0"
   },
   "source": [
    "Если датасет лежит на drive"
   ]
  },
  {
   "cell_type": "code",
   "execution_count": 2,
   "metadata": {
    "colab": {
     "base_uri": "https://localhost:8080/"
    },
    "id": "OTL2mRKkUHgo",
    "outputId": "b838f53b-11d5-4275-803c-522c3613ca30"
   },
   "outputs": [
    {
     "name": "stdout",
     "output_type": "stream",
     "text": [
      "Mounted at /content/drive\n"
     ]
    }
   ],
   "source": [
    "from google.colab import drive\n",
    "drive.mount('/content/drive')"
   ]
  },
  {
   "cell_type": "markdown",
   "metadata": {
    "id": "A4EYaSX-UYz8"
   },
   "source": [
    "# Обучение и настройка модели\n"
   ]
  },
  {
   "cell_type": "markdown",
   "metadata": {
    "id": "KSjNpcpBU7Jv"
   },
   "source": [
    "Библиотеки\n"
   ]
  },
  {
   "cell_type": "code",
   "execution_count": 5,
   "metadata": {
    "id": "i7j8mBOWU5m1"
   },
   "outputs": [],
   "source": [
    "import torch\n",
    "from ultralytics import YOLO\n",
    "import optuna\n",
    "import subprocess\n",
    "import os"
   ]
  },
  {
   "cell_type": "markdown",
   "metadata": {
    "id": "PgAjjAE0VAjX"
   },
   "source": [
    "Установка рабочей среды\n"
   ]
  },
  {
   "cell_type": "code",
   "execution_count": 6,
   "metadata": {
    "colab": {
     "base_uri": "https://localhost:8080/"
    },
    "id": "C5nA6OkKU-2m",
    "outputId": "3230a394-8ab5-4283-8cae-af7092204ba3"
   },
   "outputs": [
    {
     "name": "stdout",
     "output_type": "stream",
     "text": [
      "Using device: cpu\n"
     ]
    }
   ],
   "source": [
    "# Установка переменной среды для отладки CUDA ошибок\n",
    "os.environ['CUDA_LAUNCH_BLOCKING'] = \"1\"\n",
    "\n",
    "# Проверка доступности GPU\n",
    "device = 'cuda' if torch.cuda.is_available() else 'cpu'\n",
    "print(f'Using device: {device}')"
   ]
  },
  {
   "cell_type": "code",
   "execution_count": 7,
   "metadata": {
    "id": "lbSMWewBVEqG"
   },
   "outputs": [],
   "source": [
    "# Функция для обучения модели и возврата значения метрики\n",
    "def objective(trial):\n",
    "    # Настройка гиперпараметров с использованием Optuna\n",
    "    batch_size = trial.suggest_categorical('batch_size', [16, 32])\n",
    "    epochs = 150  # Используем большее количество эпох\n",
    "    img_size = 640\n",
    "    lr0 = trial.suggest_float('lr0', 1e-5, 1e-2, log=True)\n",
    "    momentum = trial.suggest_float('momentum', 0.8, 0.95)\n",
    "    weight_decay = trial.suggest_float('weight_decay', 1e-6, 1e-4, log=True)\n",
    "    num_workers = 16  # Фиксированное количество потоков для загрузки данных\n",
    "\n",
    "    # Загрузка предобученной модели и перемещение на устройство\n",
    "    model = YOLO('yolov8m.pt').to(device)\n",
    "\n",
    "    # Обучение модели с оптимизированными параметрами\n",
    "    results = model.train(\n",
    "        data='/home/jupyter/datasphere/project/dataset/dataset.yaml',\n",
    "        epochs=epochs,\n",
    "        batch=batch_size,\n",
    "        imgsz=img_size,\n",
    "        workers=num_workers,\n",
    "        lr0=lr0,\n",
    "        momentum=momentum,\n",
    "        weight_decay=weight_decay,\n",
    "        device=device,\n",
    "        iou=0.3,\n",
    "        lrf=0.01\n",
    "    )\n",
    "\n",
    "    # Возвращаем значение метрики, которую нужно минимизировать (например, значение потерь на валидационном наборе)\n",
    "    return results.metrics['val']['loss']"
   ]
  },
  {
   "cell_type": "markdown",
   "metadata": {
    "id": "o8lCV2kVVKwb"
   },
   "source": [
    "Запуск обучения"
   ]
  },
  {
   "cell_type": "code",
   "execution_count": null,
   "metadata": {
    "id": "nJUR5ZBZUme7"
   },
   "outputs": [],
   "source": [
    "# Создание и запуск Optuna study\n",
    "study = optuna.create_study(direction='minimize')\n",
    "study.optimize(objective, n_trials=50)\n",
    "\n",
    "# Вывод лучших параметров и значения метрики\n",
    "print(f\"Best params: {study.best_params}\")\n",
    "print(f\"Best score: {study.best_value}\")\n",
    "\n",
    "# Вызов функции мониторинга ресурсов\n",
    "def monitor_resources():\n",
    "    # Команда для вывода состояния GPU\n",
    "    result = subprocess.run(['nvidia-smi'], stdout=subprocess.PIPE)\n",
    "    print(result.stdout.decode())\n",
    "\n",
    "monitor_resources()"
   ]
  },
  {
   "cell_type": "markdown",
   "metadata": {
    "id": "x-tKGI8hVZkq"
   },
   "source": [
    "# Предсказание результатов\n"
   ]
  },
  {
   "cell_type": "markdown",
   "metadata": {
    "id": "zPvHNldYaQlm"
   },
   "source": [
    "Настройка девайса"
   ]
  },
  {
   "cell_type": "code",
   "execution_count": null,
   "metadata": {
    "id": "17rtsegmaO-4"
   },
   "outputs": [],
   "source": [
    "import torch\n",
    "import os\n",
    "import cv2\n",
    "\n",
    "device = torch.device(\"cuda:0\")"
   ]
  },
  {
   "cell_type": "markdown",
   "metadata": {
    "id": "sww0lvcpabmu"
   },
   "source": [
    "Сбор данных для разметки"
   ]
  },
  {
   "cell_type": "code",
   "execution_count": null,
   "metadata": {
    "id": "EJnGYLdvaZTc"
   },
   "outputs": [],
   "source": [
    "filenames = []\n",
    "train_dir = '/home/jupyter/datasphere/project/test_dataset'\n",
    "for i in os.walk(train_dir):\n",
    "  filenames = i[2]\n",
    "for index, i in enumerate(filenames):\n",
    "  filenames[index] = train_dir + '/' + i"
   ]
  },
  {
   "cell_type": "markdown",
   "metadata": {
    "id": "l8BBKpjtapiS"
   },
   "source": [
    "Разметка"
   ]
  },
  {
   "cell_type": "code",
   "execution_count": null,
   "metadata": {
    "id": "Mui0thTEaJgK"
   },
   "outputs": [],
   "source": [
    "from ultralytics import YOLO\n",
    "\n",
    "model = YOLO(\"/home/jupyter/datasphere/project/runs/detect/train10/weights/best.pt\").to(device)\n",
    "\n",
    "\n",
    "answer = {'filename': [], 'class_id': [], 'rel_x': [], 'rel_y': [], 'width': [], 'height': []}\n",
    "length = len(filenames)\n",
    "for index, i in enumerate(filenames):\n",
    "  HEIGHT, WIDTH = cv2.imread(i).shape[0:2]\n",
    "  print(f\"{index}/{length}\")\n",
    "  result = model([i])[0]\n",
    "  boxes = result.boxes.xyxy.tolist()\n",
    "  classes = result.boxes.cls.tolist()\n",
    "  names = result.names\n",
    "  confidences = result.boxes.conf.tolist()\n",
    "\n",
    "  for box, cls, conf in zip(boxes, classes, confidences):\n",
    "      x1, y1, x2, y2 = box\n",
    "      confidence = conf\n",
    "      detected_class = cls\n",
    "      name = names[int(cls)]\n",
    "      answer['filename'].append(i.split('/')[-1])\n",
    "      answer['class_id'].append(cls)\n",
    "      answer['rel_x'].append((x1 + ((x2 - x1) / 2)) / WIDTH)\n",
    "      answer['rel_y'].append((y1 + ((y2 - y1) / 2)) / HEIGHT)\n",
    "      answer['width'].append((x2 - x1) / WIDTH)\n",
    "      answer['height'].append((y2 - y1) / HEIGHT)"
   ]
  },
  {
   "cell_type": "markdown",
   "metadata": {
    "id": "0kmxEmVSariy"
   },
   "source": [
    "Формирование результата"
   ]
  },
  {
   "cell_type": "code",
   "execution_count": null,
   "metadata": {
    "id": "Ex3Ii2OSalts"
   },
   "outputs": [],
   "source": [
    "import pandas as pd\n",
    "\n",
    "df = pd.DataFrame(answer)\n",
    "df.to_csv(\"subm.csv\", index=False, sep=\";\")"
   ]
  }
 ],
 "metadata": {
  "colab": {
   "provenance": [],
   "toc_visible": true
  },
  "kernelspec": {
   "display_name": "DataSphere Kernel",
   "language": "python",
   "name": "python3"
  },
  "language_info": {
   "codemirror_mode": {
    "name": "ipython",
    "version": 3
   },
   "file_extension": ".py",
   "mimetype": "text/x-python",
   "name": "python",
   "nbconvert_exporter": "python",
   "pygments_lexer": "ipython3",
   "version": "3.10.12"
  }
 },
 "nbformat": 4,
 "nbformat_minor": 4
}
